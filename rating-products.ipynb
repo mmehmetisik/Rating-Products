{
 "cells": [
  {
   "cell_type": "markdown",
   "id": "b0ed6339",
   "metadata": {
    "papermill": {
     "duration": 0.017456,
     "end_time": "2023-06-14T12:30:55.198466",
     "exception": false,
     "start_time": "2023-06-14T12:30:55.181010",
     "status": "completed"
    },
    "tags": []
   },
   "source": [
    "# General Information\n",
    "- In this section, we will discuss Rating Products, one of the solutions to the measurement problems in purchasing."
   ]
  },
  {
   "cell_type": "markdown",
   "id": "243b81ea",
   "metadata": {
    "papermill": {
     "duration": 0.013741,
     "end_time": "2023-06-14T12:30:55.226824",
     "exception": false,
     "start_time": "2023-06-14T12:30:55.213083",
     "status": "completed"
    },
    "tags": []
   },
   "source": [
    "# When buying a product, what are the things that the buyer pays attention to?\n",
    "\n",
    " - Product Ratings.\n",
    " - Number of product stars. (how many votes from which star)\n",
    " - Number of Product Reviews.\n",
    " - Number of product sales.\n",
    " - Social proof (Social Proof) (i.e. the most useful comment)\n",
    " \n",
    " - Here, we will examine the measurement methods that affect the seller's purchase of a product while selling it, and as a marketplace, we will examine the measurement methods we use to bring the most logical product to this buyer.\n",
    " \n",
    " - **The user:** wants to get the best product in terms of price and performance. As a marketplace, we want to make it easier for them to make the best choice in this regard by using some measurement methods.\n",
    " \n",
    "**When ranking products in a marketplace, the following situations are taken into account.**\n",
    " \n",
    "- Product Ratings\n",
    "- Number of product reviews\n",
    "- Number of purchases\n",
    "- Number of useful comments\n",
    "\n",
    "In this section we will try to solve measurement problems using the **Rating Products method**.\n"
   ]
  },
  {
   "cell_type": "markdown",
   "id": "c2f60b5c",
   "metadata": {
    "papermill": {
     "duration": 0.013602,
     "end_time": "2023-06-14T12:30:55.254517",
     "exception": false,
     "start_time": "2023-06-14T12:30:55.240915",
     "status": "completed"
    },
    "tags": []
   },
   "source": [
    "# Rating Products\n",
    "- We will be performing weighted product ratings, taking into account possible factors. In this section, we will learn how companies calculate the scores that their websites give to their products. We will use the following methods for these calculations.\n",
    "\n",
    "- Average\n",
    "- Time-Based Weighted Average\n",
    "- User-Based Weighted Average\n",
    "- Weighted Rating"
   ]
  },
  {
   "cell_type": "markdown",
   "id": "94ad682c",
   "metadata": {
    "papermill": {
     "duration": 0.013596,
     "end_time": "2023-06-14T12:30:55.282204",
     "exception": false,
     "start_time": "2023-06-14T12:30:55.268608",
     "status": "completed"
    },
    "tags": []
   },
   "source": [
    "# Business Problem\n",
    "- A website that offers online trainings wants to calculate the Course Score of a training content on its web page using Average, Time - Based Weighted, User-Based Weighted Average and Weighted Rating methods, which is a combination of both weighting methods."
   ]
  },
  {
   "cell_type": "markdown",
   "id": "bc4a611b",
   "metadata": {
    "papermill": {
     "duration": 0.013642,
     "end_time": "2023-06-14T12:30:55.309928",
     "exception": false,
     "start_time": "2023-06-14T12:30:55.296286",
     "status": "completed"
    },
    "tags": []
   },
   "source": [
    "# Data Story\n",
    "- The dataset contains data from **(50+ Hours) Python A-Z™: Data Science and Machine Learning** training course. \n",
    "\n",
    "**This data set** \n",
    "\n",
    "- **Rating:** Product Rating.\n",
    "- **Timestamp:** Date of product rating.\n",
    "- **Enrolled:** Date of product purchase.\n",
    "- **Progress:** Percentage of training content watched (%)\n",
    "- **Questions Asked:** Number of questions about training content.\n",
    "- **Questions Answered:** Number of answers given to questions asked."
   ]
  },
  {
   "cell_type": "code",
   "execution_count": 1,
   "id": "d0b5c29d",
   "metadata": {
    "execution": {
     "iopub.execute_input": "2023-06-14T12:30:55.340258Z",
     "iopub.status.busy": "2023-06-14T12:30:55.339873Z",
     "iopub.status.idle": "2023-06-14T12:30:57.784715Z",
     "shell.execute_reply": "2023-06-14T12:30:57.783751Z"
    },
    "papermill": {
     "duration": 2.463594,
     "end_time": "2023-06-14T12:30:57.787613",
     "exception": false,
     "start_time": "2023-06-14T12:30:55.324019",
     "status": "completed"
    },
    "tags": []
   },
   "outputs": [],
   "source": [
    "# import Required Libraries\n",
    "\n",
    "import pandas as pd\n",
    "import numpy as np\n",
    "import seaborn as sns\n",
    "import datetime as dt\n",
    "import math\n",
    "import scipy.stats as st\n",
    "\n",
    "import matplotlib.pyplot as plt\n",
    "import plotly.express as px\n",
    "import warnings\n",
    "\n",
    "from sklearn.preprocessing import MinMaxScaler\n",
    "\n",
    "warnings.simplefilter(action=\"ignore\")"
   ]
  },
  {
   "cell_type": "code",
   "execution_count": 2,
   "id": "e268dafb",
   "metadata": {
    "execution": {
     "iopub.execute_input": "2023-06-14T12:30:57.818622Z",
     "iopub.status.busy": "2023-06-14T12:30:57.818067Z",
     "iopub.status.idle": "2023-06-14T12:30:57.824136Z",
     "shell.execute_reply": "2023-06-14T12:30:57.822920Z"
    },
    "papermill": {
     "duration": 0.024501,
     "end_time": "2023-06-14T12:30:57.826600",
     "exception": false,
     "start_time": "2023-06-14T12:30:57.802099",
     "status": "completed"
    },
    "tags": []
   },
   "outputs": [],
   "source": [
    "# Adjusting Row Column Settings\n",
    "\n",
    "pd.set_option('display.max_columns', None)\n",
    "#pd.set_option('display.max_rows', None)\n",
    "pd.set_option('display.width', 500)\n",
    "pd.set_option('display.expand_frame_repr', False)\n",
    "pd.set_option('display.float_format', lambda x: '%.5f' % x)"
   ]
  },
  {
   "cell_type": "code",
   "execution_count": 3,
   "id": "0a98a804",
   "metadata": {
    "execution": {
     "iopub.execute_input": "2023-06-14T12:30:57.856638Z",
     "iopub.status.busy": "2023-06-14T12:30:57.856258Z",
     "iopub.status.idle": "2023-06-14T12:30:57.898582Z",
     "shell.execute_reply": "2023-06-14T12:30:57.897516Z"
    },
    "papermill": {
     "duration": 0.060703,
     "end_time": "2023-06-14T12:30:57.901406",
     "exception": false,
     "start_time": "2023-06-14T12:30:57.840703",
     "status": "completed"
    },
    "tags": []
   },
   "outputs": [],
   "source": [
    "# Loading the Data Set\n",
    "\n",
    "df = pd.read_csv(\"/kaggle/input/course-reviewscsv/course_reviews.csv\")"
   ]
  },
  {
   "cell_type": "code",
   "execution_count": 4,
   "id": "e935e2fa",
   "metadata": {
    "execution": {
     "iopub.execute_input": "2023-06-14T12:30:57.932428Z",
     "iopub.status.busy": "2023-06-14T12:30:57.931763Z",
     "iopub.status.idle": "2023-06-14T12:30:57.962193Z",
     "shell.execute_reply": "2023-06-14T12:30:57.961144Z"
    },
    "papermill": {
     "duration": 0.049505,
     "end_time": "2023-06-14T12:30:57.965228",
     "exception": false,
     "start_time": "2023-06-14T12:30:57.915723",
     "status": "completed"
    },
    "tags": []
   },
   "outputs": [
    {
     "data": {
      "text/html": [
       "<div>\n",
       "<style scoped>\n",
       "    .dataframe tbody tr th:only-of-type {\n",
       "        vertical-align: middle;\n",
       "    }\n",
       "\n",
       "    .dataframe tbody tr th {\n",
       "        vertical-align: top;\n",
       "    }\n",
       "\n",
       "    .dataframe thead th {\n",
       "        text-align: right;\n",
       "    }\n",
       "</style>\n",
       "<table border=\"1\" class=\"dataframe\">\n",
       "  <thead>\n",
       "    <tr style=\"text-align: right;\">\n",
       "      <th></th>\n",
       "      <th>Rating</th>\n",
       "      <th>Timestamp</th>\n",
       "      <th>Enrolled</th>\n",
       "      <th>Progress</th>\n",
       "      <th>Questions Asked</th>\n",
       "      <th>Questions Answered</th>\n",
       "    </tr>\n",
       "  </thead>\n",
       "  <tbody>\n",
       "    <tr>\n",
       "      <th>0</th>\n",
       "      <td>5.00000</td>\n",
       "      <td>2021-02-05 07:45:55</td>\n",
       "      <td>2021-01-25 15:12:08</td>\n",
       "      <td>5.00000</td>\n",
       "      <td>0.00000</td>\n",
       "      <td>0.00000</td>\n",
       "    </tr>\n",
       "    <tr>\n",
       "      <th>1</th>\n",
       "      <td>5.00000</td>\n",
       "      <td>2021-02-04 21:05:32</td>\n",
       "      <td>2021-02-04 20:43:40</td>\n",
       "      <td>1.00000</td>\n",
       "      <td>0.00000</td>\n",
       "      <td>0.00000</td>\n",
       "    </tr>\n",
       "    <tr>\n",
       "      <th>2</th>\n",
       "      <td>4.50000</td>\n",
       "      <td>2021-02-04 20:34:03</td>\n",
       "      <td>2019-07-04 23:23:27</td>\n",
       "      <td>1.00000</td>\n",
       "      <td>0.00000</td>\n",
       "      <td>0.00000</td>\n",
       "    </tr>\n",
       "    <tr>\n",
       "      <th>3</th>\n",
       "      <td>5.00000</td>\n",
       "      <td>2021-02-04 16:56:28</td>\n",
       "      <td>2021-02-04 14:41:29</td>\n",
       "      <td>10.00000</td>\n",
       "      <td>0.00000</td>\n",
       "      <td>0.00000</td>\n",
       "    </tr>\n",
       "    <tr>\n",
       "      <th>4</th>\n",
       "      <td>4.00000</td>\n",
       "      <td>2021-02-04 15:00:24</td>\n",
       "      <td>2020-10-13 03:10:07</td>\n",
       "      <td>10.00000</td>\n",
       "      <td>0.00000</td>\n",
       "      <td>0.00000</td>\n",
       "    </tr>\n",
       "  </tbody>\n",
       "</table>\n",
       "</div>"
      ],
      "text/plain": [
       "   Rating            Timestamp             Enrolled  Progress  Questions Asked  Questions Answered\n",
       "0 5.00000  2021-02-05 07:45:55  2021-01-25 15:12:08   5.00000          0.00000             0.00000\n",
       "1 5.00000  2021-02-04 21:05:32  2021-02-04 20:43:40   1.00000          0.00000             0.00000\n",
       "2 4.50000  2021-02-04 20:34:03  2019-07-04 23:23:27   1.00000          0.00000             0.00000\n",
       "3 5.00000  2021-02-04 16:56:28  2021-02-04 14:41:29  10.00000          0.00000             0.00000\n",
       "4 4.00000  2021-02-04 15:00:24  2020-10-13 03:10:07  10.00000          0.00000             0.00000"
      ]
     },
     "execution_count": 4,
     "metadata": {},
     "output_type": "execute_result"
    }
   ],
   "source": [
    "df.head()"
   ]
  },
  {
   "cell_type": "code",
   "execution_count": 5,
   "id": "cd6a43ae",
   "metadata": {
    "execution": {
     "iopub.execute_input": "2023-06-14T12:30:57.996018Z",
     "iopub.status.busy": "2023-06-14T12:30:57.995597Z",
     "iopub.status.idle": "2023-06-14T12:30:58.037419Z",
     "shell.execute_reply": "2023-06-14T12:30:58.036294Z"
    },
    "papermill": {
     "duration": 0.06062,
     "end_time": "2023-06-14T12:30:58.040525",
     "exception": false,
     "start_time": "2023-06-14T12:30:57.979905",
     "status": "completed"
    },
    "tags": []
   },
   "outputs": [
    {
     "name": "stdout",
     "output_type": "stream",
     "text": [
      "##################### Shape #####################\n",
      "(4323, 6)\n",
      "##################### Types #####################\n",
      "Rating                float64\n",
      "Timestamp              object\n",
      "Enrolled               object\n",
      "Progress              float64\n",
      "Questions Asked       float64\n",
      "Questions Answered    float64\n",
      "dtype: object\n",
      "##################### Head #####################\n",
      "   Rating            Timestamp             Enrolled  Progress  Questions Asked  Questions Answered\n",
      "0 5.00000  2021-02-05 07:45:55  2021-01-25 15:12:08   5.00000          0.00000             0.00000\n",
      "1 5.00000  2021-02-04 21:05:32  2021-02-04 20:43:40   1.00000          0.00000             0.00000\n",
      "2 4.50000  2021-02-04 20:34:03  2019-07-04 23:23:27   1.00000          0.00000             0.00000\n",
      "3 5.00000  2021-02-04 16:56:28  2021-02-04 14:41:29  10.00000          0.00000             0.00000\n",
      "4 4.00000  2021-02-04 15:00:24  2020-10-13 03:10:07  10.00000          0.00000             0.00000\n",
      "##################### Tail #####################\n",
      "      Rating            Timestamp             Enrolled  Progress  Questions Asked  Questions Answered\n",
      "4318 5.00000  2019-05-17 09:51:44  2019-05-17 09:08:53  34.00000          1.00000             0.00000\n",
      "4319 5.00000  2019-05-16 21:27:05  2019-05-16 20:32:15   5.00000          0.00000             0.00000\n",
      "4320 5.00000  2019-05-16 20:22:26  2019-05-16 20:21:19   1.00000          0.00000             0.00000\n",
      "4321 5.00000  2019-05-16 19:49:07  2019-05-16 19:47:29   1.00000          0.00000             0.00000\n",
      "4322 5.00000  2019-05-16 13:40:35  2019-05-15 14:10:24  56.00000          0.00000             0.00000\n",
      "##################### NA #####################\n",
      "Rating                0\n",
      "Timestamp             0\n",
      "Enrolled              0\n",
      "Progress              0\n",
      "Questions Asked       0\n",
      "Questions Answered    0\n",
      "dtype: int64\n",
      "##################### Quantiles #####################\n",
      "                        count     mean      std     min      0%      5%      50%       95%       99%      100%       max\n",
      "Rating             4323.00000  4.76428  0.51959 1.00000 1.00000 4.00000  5.00000   5.00000   5.00000   5.00000   5.00000\n",
      "Progress           4323.00000 27.19755 29.14214 0.00000 0.00000 1.00000 15.00000 100.00000 100.00000 100.00000 100.00000\n",
      "Questions Asked    4323.00000  0.22184  0.98956 0.00000 0.00000 0.00000  0.00000   1.00000   4.00000  22.00000  22.00000\n",
      "Questions Answered 4323.00000  0.33102  6.21055 0.00000 0.00000 0.00000  0.00000   1.00000   5.00000 356.00000 356.00000\n"
     ]
    }
   ],
   "source": [
    "# Preliminary examination of the data set\n",
    "\n",
    "def check_df(dataframe, head=5):\n",
    "    print('##################### Shape #####################')\n",
    "    print(dataframe.shape)\n",
    "    print('##################### Types #####################')\n",
    "    print(dataframe.dtypes)\n",
    "    print('##################### Head #####################')\n",
    "    print(dataframe.head(head))\n",
    "    print('##################### Tail #####################')\n",
    "    print(dataframe.tail(head))\n",
    "    print('##################### NA #####################')\n",
    "    print(dataframe.isnull().sum())\n",
    "    print('##################### Quantiles #####################')\n",
    "    print(dataframe.describe([0, 0.05, 0.50, 0.95, 0.99, 1]).T)\n",
    "\n",
    "check_df(df)"
   ]
  },
  {
   "cell_type": "code",
   "execution_count": 6,
   "id": "8cc369b0",
   "metadata": {
    "execution": {
     "iopub.execute_input": "2023-06-14T12:30:58.074044Z",
     "iopub.status.busy": "2023-06-14T12:30:58.071443Z",
     "iopub.status.idle": "2023-06-14T12:30:58.083383Z",
     "shell.execute_reply": "2023-06-14T12:30:58.082294Z"
    },
    "papermill": {
     "duration": 0.030478,
     "end_time": "2023-06-14T12:30:58.085865",
     "exception": false,
     "start_time": "2023-06-14T12:30:58.055387",
     "status": "completed"
    },
    "tags": []
   },
   "outputs": [
    {
     "data": {
      "text/plain": [
       "5.00000    3267\n",
       "4.50000     475\n",
       "4.00000     383\n",
       "3.50000      96\n",
       "3.00000      62\n",
       "1.00000      15\n",
       "2.00000      12\n",
       "2.50000      11\n",
       "1.50000       2\n",
       "Name: Rating, dtype: int64"
      ]
     },
     "execution_count": 6,
     "metadata": {},
     "output_type": "execute_result"
    }
   ],
   "source": [
    "# Let's check the distribution of points given to the product.\n",
    "\n",
    "df[\"Rating\"].value_counts()"
   ]
  },
  {
   "cell_type": "code",
   "execution_count": 7,
   "id": "aaf7a825",
   "metadata": {
    "execution": {
     "iopub.execute_input": "2023-06-14T12:30:58.117347Z",
     "iopub.status.busy": "2023-06-14T12:30:58.116984Z",
     "iopub.status.idle": "2023-06-14T12:30:58.125196Z",
     "shell.execute_reply": "2023-06-14T12:30:58.124170Z"
    },
    "papermill": {
     "duration": 0.02679,
     "end_time": "2023-06-14T12:30:58.127555",
     "exception": false,
     "start_time": "2023-06-14T12:30:58.100765",
     "status": "completed"
    },
    "tags": []
   },
   "outputs": [
    {
     "data": {
      "text/plain": [
       "0.00000     3867\n",
       "1.00000      276\n",
       "2.00000       80\n",
       "3.00000       43\n",
       "4.00000       15\n",
       "5.00000       13\n",
       "6.00000        9\n",
       "8.00000        5\n",
       "9.00000        3\n",
       "14.00000       2\n",
       "11.00000       2\n",
       "7.00000        2\n",
       "10.00000       2\n",
       "15.00000       2\n",
       "22.00000       1\n",
       "12.00000       1\n",
       "Name: Questions Asked, dtype: int64"
      ]
     },
     "execution_count": 7,
     "metadata": {},
     "output_type": "execute_result"
    }
   ],
   "source": [
    "# Let's check the distribution of questions asked about the product.\n",
    "\n",
    "df[\"Questions Asked\"].value_counts() "
   ]
  },
  {
   "cell_type": "code",
   "execution_count": 8,
   "id": "9c77bb71",
   "metadata": {
    "execution": {
     "iopub.execute_input": "2023-06-14T12:30:58.159988Z",
     "iopub.status.busy": "2023-06-14T12:30:58.158982Z",
     "iopub.status.idle": "2023-06-14T12:30:58.178908Z",
     "shell.execute_reply": "2023-06-14T12:30:58.177830Z"
    },
    "papermill": {
     "duration": 0.038818,
     "end_time": "2023-06-14T12:30:58.181683",
     "exception": false,
     "start_time": "2023-06-14T12:30:58.142865",
     "status": "completed"
    },
    "tags": []
   },
   "outputs": [
    {
     "data": {
      "text/html": [
       "<div>\n",
       "<style scoped>\n",
       "    .dataframe tbody tr th:only-of-type {\n",
       "        vertical-align: middle;\n",
       "    }\n",
       "\n",
       "    .dataframe tbody tr th {\n",
       "        vertical-align: top;\n",
       "    }\n",
       "\n",
       "    .dataframe thead th {\n",
       "        text-align: right;\n",
       "    }\n",
       "</style>\n",
       "<table border=\"1\" class=\"dataframe\">\n",
       "  <thead>\n",
       "    <tr style=\"text-align: right;\">\n",
       "      <th></th>\n",
       "      <th>Questions Asked</th>\n",
       "      <th>Rating</th>\n",
       "    </tr>\n",
       "    <tr>\n",
       "      <th>Questions Asked</th>\n",
       "      <th></th>\n",
       "      <th></th>\n",
       "    </tr>\n",
       "  </thead>\n",
       "  <tbody>\n",
       "    <tr>\n",
       "      <th>0.00000</th>\n",
       "      <td>3867</td>\n",
       "      <td>4.76519</td>\n",
       "    </tr>\n",
       "    <tr>\n",
       "      <th>1.00000</th>\n",
       "      <td>276</td>\n",
       "      <td>4.74094</td>\n",
       "    </tr>\n",
       "    <tr>\n",
       "      <th>2.00000</th>\n",
       "      <td>80</td>\n",
       "      <td>4.80625</td>\n",
       "    </tr>\n",
       "    <tr>\n",
       "      <th>3.00000</th>\n",
       "      <td>43</td>\n",
       "      <td>4.74419</td>\n",
       "    </tr>\n",
       "    <tr>\n",
       "      <th>4.00000</th>\n",
       "      <td>15</td>\n",
       "      <td>4.83333</td>\n",
       "    </tr>\n",
       "    <tr>\n",
       "      <th>5.00000</th>\n",
       "      <td>13</td>\n",
       "      <td>4.65385</td>\n",
       "    </tr>\n",
       "    <tr>\n",
       "      <th>6.00000</th>\n",
       "      <td>9</td>\n",
       "      <td>5.00000</td>\n",
       "    </tr>\n",
       "    <tr>\n",
       "      <th>7.00000</th>\n",
       "      <td>2</td>\n",
       "      <td>4.75000</td>\n",
       "    </tr>\n",
       "    <tr>\n",
       "      <th>8.00000</th>\n",
       "      <td>5</td>\n",
       "      <td>4.90000</td>\n",
       "    </tr>\n",
       "    <tr>\n",
       "      <th>9.00000</th>\n",
       "      <td>3</td>\n",
       "      <td>5.00000</td>\n",
       "    </tr>\n",
       "    <tr>\n",
       "      <th>10.00000</th>\n",
       "      <td>2</td>\n",
       "      <td>5.00000</td>\n",
       "    </tr>\n",
       "    <tr>\n",
       "      <th>11.00000</th>\n",
       "      <td>2</td>\n",
       "      <td>5.00000</td>\n",
       "    </tr>\n",
       "    <tr>\n",
       "      <th>12.00000</th>\n",
       "      <td>1</td>\n",
       "      <td>5.00000</td>\n",
       "    </tr>\n",
       "    <tr>\n",
       "      <th>14.00000</th>\n",
       "      <td>2</td>\n",
       "      <td>4.50000</td>\n",
       "    </tr>\n",
       "    <tr>\n",
       "      <th>15.00000</th>\n",
       "      <td>2</td>\n",
       "      <td>3.00000</td>\n",
       "    </tr>\n",
       "    <tr>\n",
       "      <th>22.00000</th>\n",
       "      <td>1</td>\n",
       "      <td>5.00000</td>\n",
       "    </tr>\n",
       "  </tbody>\n",
       "</table>\n",
       "</div>"
      ],
      "text/plain": [
       "                 Questions Asked  Rating\n",
       "Questions Asked                         \n",
       "0.00000                     3867 4.76519\n",
       "1.00000                      276 4.74094\n",
       "2.00000                       80 4.80625\n",
       "3.00000                       43 4.74419\n",
       "4.00000                       15 4.83333\n",
       "5.00000                       13 4.65385\n",
       "6.00000                        9 5.00000\n",
       "7.00000                        2 4.75000\n",
       "8.00000                        5 4.90000\n",
       "9.00000                        3 5.00000\n",
       "10.00000                       2 5.00000\n",
       "11.00000                       2 5.00000\n",
       "12.00000                       1 5.00000\n",
       "14.00000                       2 4.50000\n",
       "15.00000                       2 3.00000\n",
       "22.00000                       1 5.00000"
      ]
     },
     "execution_count": 8,
     "metadata": {},
     "output_type": "execute_result"
    }
   ],
   "source": [
    "# Let's look at the number of people asking questions and the average score.\n",
    "\n",
    "df.groupby(\"Questions Asked\").agg({\"Questions Asked\": \"count\",\n",
    "                                   \"Rating\": \"mean\"})"
   ]
  },
  {
   "cell_type": "markdown",
   "id": "c08da513",
   "metadata": {
    "papermill": {
     "duration": 0.01476,
     "end_time": "2023-06-14T12:30:58.211694",
     "exception": false,
     "start_time": "2023-06-14T12:30:58.196934",
     "status": "completed"
    },
    "tags": []
   },
   "source": [
    "# Average"
   ]
  },
  {
   "cell_type": "code",
   "execution_count": 9,
   "id": "289e5e91",
   "metadata": {
    "execution": {
     "iopub.execute_input": "2023-06-14T12:30:58.244110Z",
     "iopub.status.busy": "2023-06-14T12:30:58.243460Z",
     "iopub.status.idle": "2023-06-14T12:30:58.250086Z",
     "shell.execute_reply": "2023-06-14T12:30:58.249025Z"
    },
    "papermill": {
     "duration": 0.0253,
     "end_time": "2023-06-14T12:30:58.252512",
     "exception": false,
     "start_time": "2023-06-14T12:30:58.227212",
     "status": "completed"
    },
    "tags": []
   },
   "outputs": [
    {
     "data": {
      "text/plain": [
       "4.764284061993986"
      ]
     },
     "execution_count": 9,
     "metadata": {},
     "output_type": "execute_result"
    }
   ],
   "source": [
    "# Average Score\n",
    "\n",
    "df[\"Rating\"].mean()"
   ]
  },
  {
   "cell_type": "markdown",
   "id": "80935db3",
   "metadata": {
    "papermill": {
     "duration": 0.014856,
     "end_time": "2023-06-14T12:30:58.282876",
     "exception": false,
     "start_time": "2023-06-14T12:30:58.268020",
     "status": "completed"
    },
    "tags": []
   },
   "source": [
    "# Time-Based Weighted Average\n",
    "\n",
    "- **Question:** What can we do to better reflect the current trend in the average?\n",
    "- **Answer:** Time - Based Weighted Average If we make a weighted average based on score times, then we can calculate a weighted average based on time with combinations such as giving a different weight to the last 30 days and a different weight to the last 60 days.\n",
    "- In this way, we reflect the current trend to the average in the best way possible."
   ]
  },
  {
   "cell_type": "code",
   "execution_count": 10,
   "id": "80b79a1e",
   "metadata": {
    "execution": {
     "iopub.execute_input": "2023-06-14T12:30:58.315255Z",
     "iopub.status.busy": "2023-06-14T12:30:58.314809Z",
     "iopub.status.idle": "2023-06-14T12:30:58.323354Z",
     "shell.execute_reply": "2023-06-14T12:30:58.322242Z"
    },
    "papermill": {
     "duration": 0.027817,
     "end_time": "2023-06-14T12:30:58.325780",
     "exception": false,
     "start_time": "2023-06-14T12:30:58.297963",
     "status": "completed"
    },
    "tags": []
   },
   "outputs": [],
   "source": [
    "# Let's change the type of the Timestamp variable to datetime a time variable.\n",
    "\n",
    "df[\"Timestamp\"] = pd.to_datetime(df[\"Timestamp\"])"
   ]
  },
  {
   "cell_type": "code",
   "execution_count": 11,
   "id": "a507c346",
   "metadata": {
    "execution": {
     "iopub.execute_input": "2023-06-14T12:30:58.358359Z",
     "iopub.status.busy": "2023-06-14T12:30:58.357987Z",
     "iopub.status.idle": "2023-06-14T12:30:58.372025Z",
     "shell.execute_reply": "2023-06-14T12:30:58.370517Z"
    },
    "papermill": {
     "duration": 0.033089,
     "end_time": "2023-06-14T12:30:58.374256",
     "exception": false,
     "start_time": "2023-06-14T12:30:58.341167",
     "status": "completed"
    },
    "tags": []
   },
   "outputs": [
    {
     "name": "stdout",
     "output_type": "stream",
     "text": [
      "<class 'pandas.core.series.Series'>\n",
      "RangeIndex: 4323 entries, 0 to 4322\n",
      "Series name: Timestamp\n",
      "Non-Null Count  Dtype         \n",
      "--------------  -----         \n",
      "4323 non-null   datetime64[ns]\n",
      "dtypes: datetime64[ns](1)\n",
      "memory usage: 33.9 KB\n"
     ]
    }
   ],
   "source": [
    "df[\"Timestamp\"].info()"
   ]
  },
  {
   "cell_type": "code",
   "execution_count": 12,
   "id": "9a14f742",
   "metadata": {
    "execution": {
     "iopub.execute_input": "2023-06-14T12:30:58.407343Z",
     "iopub.status.busy": "2023-06-14T12:30:58.406669Z",
     "iopub.status.idle": "2023-06-14T12:30:58.413702Z",
     "shell.execute_reply": "2023-06-14T12:30:58.412922Z"
    },
    "papermill": {
     "duration": 0.026309,
     "end_time": "2023-06-14T12:30:58.415965",
     "exception": false,
     "start_time": "2023-06-14T12:30:58.389656",
     "status": "completed"
    },
    "tags": []
   },
   "outputs": [],
   "source": [
    "# Let's change the type of the Enrolled variable to datetime a time variable.\n",
    "\n",
    "df[\"Enrolled\"]=pd.to_datetime(df[\"Enrolled\"])"
   ]
  },
  {
   "cell_type": "code",
   "execution_count": 13,
   "id": "9fe78ade",
   "metadata": {
    "execution": {
     "iopub.execute_input": "2023-06-14T12:30:58.448925Z",
     "iopub.status.busy": "2023-06-14T12:30:58.448307Z",
     "iopub.status.idle": "2023-06-14T12:30:58.457602Z",
     "shell.execute_reply": "2023-06-14T12:30:58.456404Z"
    },
    "papermill": {
     "duration": 0.028752,
     "end_time": "2023-06-14T12:30:58.460136",
     "exception": false,
     "start_time": "2023-06-14T12:30:58.431384",
     "status": "completed"
    },
    "tags": []
   },
   "outputs": [
    {
     "name": "stdout",
     "output_type": "stream",
     "text": [
      "<class 'pandas.core.series.Series'>\n",
      "RangeIndex: 4323 entries, 0 to 4322\n",
      "Series name: Enrolled\n",
      "Non-Null Count  Dtype         \n",
      "--------------  -----         \n",
      "4323 non-null   datetime64[ns]\n",
      "dtypes: datetime64[ns](1)\n",
      "memory usage: 33.9 KB\n"
     ]
    }
   ],
   "source": [
    "df[\"Enrolled\"].info()"
   ]
  },
  {
   "cell_type": "code",
   "execution_count": 14,
   "id": "41a07c0d",
   "metadata": {
    "execution": {
     "iopub.execute_input": "2023-06-14T12:30:58.493473Z",
     "iopub.status.busy": "2023-06-14T12:30:58.492421Z",
     "iopub.status.idle": "2023-06-14T12:30:58.497821Z",
     "shell.execute_reply": "2023-06-14T12:30:58.496792Z"
    },
    "papermill": {
     "duration": 0.024525,
     "end_time": "2023-06-14T12:30:58.500097",
     "exception": false,
     "start_time": "2023-06-14T12:30:58.475572",
     "status": "completed"
    },
    "tags": []
   },
   "outputs": [],
   "source": [
    "# Present Date (date of analysis)\n",
    "\n",
    "today_date = pd.to_datetime('2021-02-10 0:0:0')"
   ]
  },
  {
   "cell_type": "code",
   "execution_count": 15,
   "id": "47b2044a",
   "metadata": {
    "execution": {
     "iopub.execute_input": "2023-06-14T12:30:58.532808Z",
     "iopub.status.busy": "2023-06-14T12:30:58.532407Z",
     "iopub.status.idle": "2023-06-14T12:30:58.538832Z",
     "shell.execute_reply": "2023-06-14T12:30:58.537883Z"
    },
    "papermill": {
     "duration": 0.025693,
     "end_time": "2023-06-14T12:30:58.541267",
     "exception": false,
     "start_time": "2023-06-14T12:30:58.515574",
     "status": "completed"
    },
    "tags": []
   },
   "outputs": [
    {
     "data": {
      "text/plain": [
       "Timestamp('2021-02-10 00:00:00')"
      ]
     },
     "execution_count": 15,
     "metadata": {},
     "output_type": "execute_result"
    }
   ],
   "source": [
    "today_date"
   ]
  },
  {
   "cell_type": "code",
   "execution_count": 16,
   "id": "e6ed4b0b",
   "metadata": {
    "execution": {
     "iopub.execute_input": "2023-06-14T12:30:58.575043Z",
     "iopub.status.busy": "2023-06-14T12:30:58.574630Z",
     "iopub.status.idle": "2023-06-14T12:30:58.582051Z",
     "shell.execute_reply": "2023-06-14T12:30:58.580851Z"
    },
    "papermill": {
     "duration": 0.027524,
     "end_time": "2023-06-14T12:30:58.584696",
     "exception": false,
     "start_time": "2023-06-14T12:30:58.557172",
     "status": "completed"
    },
    "tags": []
   },
   "outputs": [],
   "source": [
    "# Let's determine how many days ago the last comment on the product was made by creating a variable called days.\n",
    "\n",
    "df[\"days\"] = (today_date - df[\"Timestamp\"]).dt.days"
   ]
  },
  {
   "cell_type": "code",
   "execution_count": 17,
   "id": "13c6dd19",
   "metadata": {
    "execution": {
     "iopub.execute_input": "2023-06-14T12:30:58.617543Z",
     "iopub.status.busy": "2023-06-14T12:30:58.617168Z",
     "iopub.status.idle": "2023-06-14T12:30:58.631304Z",
     "shell.execute_reply": "2023-06-14T12:30:58.629310Z"
    },
    "papermill": {
     "duration": 0.033972,
     "end_time": "2023-06-14T12:30:58.634291",
     "exception": false,
     "start_time": "2023-06-14T12:30:58.600319",
     "status": "completed"
    },
    "tags": []
   },
   "outputs": [
    {
     "data": {
      "text/html": [
       "<div>\n",
       "<style scoped>\n",
       "    .dataframe tbody tr th:only-of-type {\n",
       "        vertical-align: middle;\n",
       "    }\n",
       "\n",
       "    .dataframe tbody tr th {\n",
       "        vertical-align: top;\n",
       "    }\n",
       "\n",
       "    .dataframe thead th {\n",
       "        text-align: right;\n",
       "    }\n",
       "</style>\n",
       "<table border=\"1\" class=\"dataframe\">\n",
       "  <thead>\n",
       "    <tr style=\"text-align: right;\">\n",
       "      <th></th>\n",
       "      <th>Rating</th>\n",
       "      <th>Timestamp</th>\n",
       "      <th>Enrolled</th>\n",
       "      <th>Progress</th>\n",
       "      <th>Questions Asked</th>\n",
       "      <th>Questions Answered</th>\n",
       "      <th>days</th>\n",
       "    </tr>\n",
       "  </thead>\n",
       "  <tbody>\n",
       "    <tr>\n",
       "      <th>0</th>\n",
       "      <td>5.00000</td>\n",
       "      <td>2021-02-05 07:45:55</td>\n",
       "      <td>2021-01-25 15:12:08</td>\n",
       "      <td>5.00000</td>\n",
       "      <td>0.00000</td>\n",
       "      <td>0.00000</td>\n",
       "      <td>4</td>\n",
       "    </tr>\n",
       "    <tr>\n",
       "      <th>1</th>\n",
       "      <td>5.00000</td>\n",
       "      <td>2021-02-04 21:05:32</td>\n",
       "      <td>2021-02-04 20:43:40</td>\n",
       "      <td>1.00000</td>\n",
       "      <td>0.00000</td>\n",
       "      <td>0.00000</td>\n",
       "      <td>5</td>\n",
       "    </tr>\n",
       "    <tr>\n",
       "      <th>2</th>\n",
       "      <td>4.50000</td>\n",
       "      <td>2021-02-04 20:34:03</td>\n",
       "      <td>2019-07-04 23:23:27</td>\n",
       "      <td>1.00000</td>\n",
       "      <td>0.00000</td>\n",
       "      <td>0.00000</td>\n",
       "      <td>5</td>\n",
       "    </tr>\n",
       "    <tr>\n",
       "      <th>3</th>\n",
       "      <td>5.00000</td>\n",
       "      <td>2021-02-04 16:56:28</td>\n",
       "      <td>2021-02-04 14:41:29</td>\n",
       "      <td>10.00000</td>\n",
       "      <td>0.00000</td>\n",
       "      <td>0.00000</td>\n",
       "      <td>5</td>\n",
       "    </tr>\n",
       "    <tr>\n",
       "      <th>4</th>\n",
       "      <td>4.00000</td>\n",
       "      <td>2021-02-04 15:00:24</td>\n",
       "      <td>2020-10-13 03:10:07</td>\n",
       "      <td>10.00000</td>\n",
       "      <td>0.00000</td>\n",
       "      <td>0.00000</td>\n",
       "      <td>5</td>\n",
       "    </tr>\n",
       "  </tbody>\n",
       "</table>\n",
       "</div>"
      ],
      "text/plain": [
       "   Rating           Timestamp            Enrolled  Progress  Questions Asked  Questions Answered  days\n",
       "0 5.00000 2021-02-05 07:45:55 2021-01-25 15:12:08   5.00000          0.00000             0.00000     4\n",
       "1 5.00000 2021-02-04 21:05:32 2021-02-04 20:43:40   1.00000          0.00000             0.00000     5\n",
       "2 4.50000 2021-02-04 20:34:03 2019-07-04 23:23:27   1.00000          0.00000             0.00000     5\n",
       "3 5.00000 2021-02-04 16:56:28 2021-02-04 14:41:29  10.00000          0.00000             0.00000     5\n",
       "4 4.00000 2021-02-04 15:00:24 2020-10-13 03:10:07  10.00000          0.00000             0.00000     5"
      ]
     },
     "execution_count": 17,
     "metadata": {},
     "output_type": "execute_result"
    }
   ],
   "source": [
    "df.head()"
   ]
  },
  {
   "cell_type": "code",
   "execution_count": 18,
   "id": "55b7583d",
   "metadata": {
    "execution": {
     "iopub.execute_input": "2023-06-14T12:30:58.668485Z",
     "iopub.status.busy": "2023-06-14T12:30:58.668104Z",
     "iopub.status.idle": "2023-06-14T12:30:58.681006Z",
     "shell.execute_reply": "2023-06-14T12:30:58.679893Z"
    },
    "papermill": {
     "duration": 0.032821,
     "end_time": "2023-06-14T12:30:58.683290",
     "exception": false,
     "start_time": "2023-06-14T12:30:58.650469",
     "status": "completed"
    },
    "tags": []
   },
   "outputs": [
    {
     "data": {
      "text/plain": [
       "Rating                194\n",
       "Timestamp             194\n",
       "Enrolled              194\n",
       "Progress              194\n",
       "Questions Asked       194\n",
       "Questions Answered    194\n",
       "days                  194\n",
       "dtype: int64"
      ]
     },
     "execution_count": 18,
     "metadata": {},
     "output_type": "execute_result"
    }
   ],
   "source": [
    "# Let's check the number of comments in the last 30 days.\n",
    "\n",
    "df[df[\"days\"] <= 30].count()"
   ]
  },
  {
   "cell_type": "code",
   "execution_count": 19,
   "id": "76c77d8c",
   "metadata": {
    "execution": {
     "iopub.execute_input": "2023-06-14T12:30:58.717040Z",
     "iopub.status.busy": "2023-06-14T12:30:58.716599Z",
     "iopub.status.idle": "2023-06-14T12:30:58.724670Z",
     "shell.execute_reply": "2023-06-14T12:30:58.723577Z"
    },
    "papermill": {
     "duration": 0.027798,
     "end_time": "2023-06-14T12:30:58.727102",
     "exception": false,
     "start_time": "2023-06-14T12:30:58.699304",
     "status": "completed"
    },
    "tags": []
   },
   "outputs": [
    {
     "data": {
      "text/plain": [
       "4.775773195876289"
      ]
     },
     "execution_count": 19,
     "metadata": {},
     "output_type": "execute_result"
    }
   ],
   "source": [
    "# Let's check the average of comments made in the last 30 days.\n",
    "\n",
    "df.loc[df[\"days\"] <= 30, \"Rating\"].mean()"
   ]
  },
  {
   "cell_type": "code",
   "execution_count": 20,
   "id": "42f4fd77",
   "metadata": {
    "execution": {
     "iopub.execute_input": "2023-06-14T12:30:58.761403Z",
     "iopub.status.busy": "2023-06-14T12:30:58.760656Z",
     "iopub.status.idle": "2023-06-14T12:30:58.770117Z",
     "shell.execute_reply": "2023-06-14T12:30:58.768941Z"
    },
    "papermill": {
     "duration": 0.029395,
     "end_time": "2023-06-14T12:30:58.772610",
     "exception": false,
     "start_time": "2023-06-14T12:30:58.743215",
     "status": "completed"
    },
    "tags": []
   },
   "outputs": [
    {
     "data": {
      "text/plain": [
       "4.763833992094861"
      ]
     },
     "execution_count": 20,
     "metadata": {},
     "output_type": "execute_result"
    }
   ],
   "source": [
    "# Let's check the average of comments made between the last 30 days and 90 days.\n",
    "\n",
    "df.loc[(df[\"days\"] > 30) & (df[\"days\"] <= 90), \"Rating\"].mean()"
   ]
  },
  {
   "cell_type": "code",
   "execution_count": 21,
   "id": "a8ead82c",
   "metadata": {
    "execution": {
     "iopub.execute_input": "2023-06-14T12:30:58.807684Z",
     "iopub.status.busy": "2023-06-14T12:30:58.807319Z",
     "iopub.status.idle": "2023-06-14T12:30:58.815551Z",
     "shell.execute_reply": "2023-06-14T12:30:58.814392Z"
    },
    "papermill": {
     "duration": 0.028716,
     "end_time": "2023-06-14T12:30:58.818113",
     "exception": false,
     "start_time": "2023-06-14T12:30:58.789397",
     "status": "completed"
    },
    "tags": []
   },
   "outputs": [
    {
     "data": {
      "text/plain": [
       "4.752503576537912"
      ]
     },
     "execution_count": 21,
     "metadata": {},
     "output_type": "execute_result"
    }
   ],
   "source": [
    "# Let's check the average of comments made between the last 90 days and 180 days.\n",
    "\n",
    "df.loc[(df[\"days\"] > 90) & (df[\"days\"] <= 180), \"Rating\"].mean()"
   ]
  },
  {
   "cell_type": "code",
   "execution_count": 22,
   "id": "520226a6",
   "metadata": {
    "execution": {
     "iopub.execute_input": "2023-06-14T12:30:58.853251Z",
     "iopub.status.busy": "2023-06-14T12:30:58.852822Z",
     "iopub.status.idle": "2023-06-14T12:30:58.861532Z",
     "shell.execute_reply": "2023-06-14T12:30:58.860342Z"
    },
    "papermill": {
     "duration": 0.029464,
     "end_time": "2023-06-14T12:30:58.864124",
     "exception": false,
     "start_time": "2023-06-14T12:30:58.834660",
     "status": "completed"
    },
    "tags": []
   },
   "outputs": [
    {
     "data": {
      "text/plain": [
       "4.76641586867305"
      ]
     },
     "execution_count": 22,
     "metadata": {},
     "output_type": "execute_result"
    }
   ],
   "source": [
    "# Let's check the average score of people who have been commenting for more than 180 days.\n",
    "\n",
    "df.loc[(df[\"days\"] > 180), \"Rating\"].mean()"
   ]
  },
  {
   "cell_type": "markdown",
   "id": "44f522c2",
   "metadata": {
    "papermill": {
     "duration": 0.016631,
     "end_time": "2023-06-14T12:30:58.897525",
     "exception": false,
     "start_time": "2023-06-14T12:30:58.880894",
     "status": "completed"
    },
    "tags": []
   },
   "source": [
    "- **Information:** As you can see above, in each of the operations we did, there were changes in the 3rd or 4th digit after the comma. Is this important for us? Yes, it is. On the e-commerce side, every digit after the comma has a serious meaning. With these operations, we have sensitized the result."
   ]
  },
  {
   "cell_type": "markdown",
   "id": "61362f3e",
   "metadata": {
    "papermill": {
     "duration": 0.016427,
     "end_time": "2023-06-14T12:30:58.930629",
     "exception": false,
     "start_time": "2023-06-14T12:30:58.914202",
     "status": "completed"
    },
    "tags": []
   },
   "source": [
    "- We will focus on certain different time intervals in a different way in the following processes. For this reason, we will try to reflect the effect of time in the weighting calculation by giving different weights for the time intervals we have determined.\n",
    "- In order to reflect the effect of time in the weight calculation, we set weights for different time intervals as follows. \n",
    "- These weights are determined entirely by ourselves according to the data set and we decide by our own interpretation."
   ]
  },
  {
   "cell_type": "markdown",
   "id": "1d880cb8",
   "metadata": {
    "papermill": {
     "duration": 0.016363,
     "end_time": "2023-06-14T12:30:58.963618",
     "exception": false,
     "start_time": "2023-06-14T12:30:58.947255",
     "status": "completed"
    },
    "tags": []
   },
   "source": [
    "**In this data set, we decided on the weights as follows:**\n",
    "- **28%** of the impact of those who commented **between 0 and 30 days**\n",
    "- **26%** impact of those who commented **between 30 and 90 days**\n",
    "- **24%** impact of those who commented **between 90 and 180 days**\n",
    "- For **more than 180 days**, we set the impact at **22%**.\n",
    "\n",
    "We determine these rates entirely on our own according to the data set."
   ]
  },
  {
   "cell_type": "code",
   "execution_count": 23,
   "id": "dbf4ed6a",
   "metadata": {
    "execution": {
     "iopub.execute_input": "2023-06-14T12:30:58.998992Z",
     "iopub.status.busy": "2023-06-14T12:30:58.998599Z",
     "iopub.status.idle": "2023-06-14T12:30:59.012451Z",
     "shell.execute_reply": "2023-06-14T12:30:59.011150Z"
    },
    "papermill": {
     "duration": 0.034822,
     "end_time": "2023-06-14T12:30:59.015222",
     "exception": false,
     "start_time": "2023-06-14T12:30:58.980400",
     "status": "completed"
    },
    "tags": []
   },
   "outputs": [
    {
     "data": {
      "text/plain": [
       "4.765025682267194"
      ]
     },
     "execution_count": 23,
     "metadata": {},
     "output_type": "execute_result"
    }
   ],
   "source": [
    "df.loc[df[\"days\"] <= 30, \"Rating\"].mean() * 28/100 + \\\n",
    "    df.loc[(df[\"days\"] > 30) & (df[\"days\"] <= 90), \"Rating\"].mean() * 26/100 + \\\n",
    "    df.loc[(df[\"days\"] > 90) & (df[\"days\"] <= 180), \"Rating\"].mean() * 24/100 + \\\n",
    "    df.loc[(df[\"days\"] > 180), \"Rating\"].mean() * 22/100"
   ]
  },
  {
   "cell_type": "code",
   "execution_count": 24,
   "id": "e8577429",
   "metadata": {
    "execution": {
     "iopub.execute_input": "2023-06-14T12:30:59.053060Z",
     "iopub.status.busy": "2023-06-14T12:30:59.052289Z",
     "iopub.status.idle": "2023-06-14T12:30:59.060444Z",
     "shell.execute_reply": "2023-06-14T12:30:59.059217Z"
    },
    "papermill": {
     "duration": 0.029357,
     "end_time": "2023-06-14T12:30:59.062960",
     "exception": false,
     "start_time": "2023-06-14T12:30:59.033603",
     "status": "completed"
    },
    "tags": []
   },
   "outputs": [],
   "source": [
    "# If we want to use it, the functionalized version is as follows.\n",
    "\n",
    "def time_based_weighted_average(dataframe, w1=28, w2=26, w3=24, w4=22):\n",
    "    return dataframe.loc[df[\"days\"] <= 30, \"Rating\"].mean() * w1 / 100 + \\\n",
    "           dataframe.loc[(dataframe[\"days\"] > 30) & (dataframe[\"days\"] <= 90), \"Rating\"].mean() * w2 / 100 + \\\n",
    "           dataframe.loc[(dataframe[\"days\"] > 90) & (dataframe[\"days\"] <= 180), \"Rating\"].mean() * w3 / 100 + \\\n",
    "           dataframe.loc[(dataframe[\"days\"] > 180), \"Rating\"].mean() * w4 / 100"
   ]
  },
  {
   "cell_type": "code",
   "execution_count": 25,
   "id": "5be9ebb1",
   "metadata": {
    "execution": {
     "iopub.execute_input": "2023-06-14T12:30:59.099671Z",
     "iopub.status.busy": "2023-06-14T12:30:59.099277Z",
     "iopub.status.idle": "2023-06-14T12:30:59.110450Z",
     "shell.execute_reply": "2023-06-14T12:30:59.109226Z"
    },
    "papermill": {
     "duration": 0.032302,
     "end_time": "2023-06-14T12:30:59.112649",
     "exception": false,
     "start_time": "2023-06-14T12:30:59.080347",
     "status": "completed"
    },
    "tags": []
   },
   "outputs": [
    {
     "data": {
      "text/plain": [
       "4.765025682267194"
      ]
     },
     "execution_count": 25,
     "metadata": {},
     "output_type": "execute_result"
    }
   ],
   "source": [
    "# we use default weitghts\n",
    "\n",
    "time_based_weighted_average(df)"
   ]
  },
  {
   "cell_type": "code",
   "execution_count": 26,
   "id": "67f2d5f0",
   "metadata": {
    "execution": {
     "iopub.execute_input": "2023-06-14T12:30:59.149822Z",
     "iopub.status.busy": "2023-06-14T12:30:59.148671Z",
     "iopub.status.idle": "2023-06-14T12:30:59.159222Z",
     "shell.execute_reply": "2023-06-14T12:30:59.158224Z"
    },
    "papermill": {
     "duration": 0.031298,
     "end_time": "2023-06-14T12:30:59.161596",
     "exception": false,
     "start_time": "2023-06-14T12:30:59.130298",
     "status": "completed"
    },
    "tags": []
   },
   "outputs": [
    {
     "data": {
      "text/plain": [
       "4.765491074653962"
      ]
     },
     "execution_count": 26,
     "metadata": {},
     "output_type": "execute_result"
    }
   ],
   "source": [
    "# if we use different weights\n",
    "\n",
    "time_based_weighted_average(df, 30, 26, 22, 22)"
   ]
  },
  {
   "cell_type": "markdown",
   "id": "53b95b10",
   "metadata": {
    "papermill": {
     "duration": 0.017162,
     "end_time": "2023-06-14T12:30:59.195797",
     "exception": false,
     "start_time": "2023-06-14T12:30:59.178635",
     "status": "completed"
    },
    "tags": []
   },
   "source": [
    "**- In the above study, we have made product scoring with the weights given to the timeliness of the comment made, which is one of the methods used in scoring the product sold in a marketplace.**\n",
    "\n",
    "**- The importance of this study is that we tried to see the effect of the most up-to-date comment on the product scoring and we calculated it.**"
   ]
  },
  {
   "cell_type": "markdown",
   "id": "3b371f34",
   "metadata": {
    "papermill": {
     "duration": 0.017136,
     "end_time": "2023-06-14T12:30:59.230414",
     "exception": false,
     "start_time": "2023-06-14T12:30:59.213278",
     "status": "completed"
    },
    "tags": []
   },
   "source": [
    "# User-Based Weighted Average \n",
    "- User Quality"
   ]
  },
  {
   "cell_type": "markdown",
   "id": "438542fa",
   "metadata": {
    "papermill": {
     "duration": 0.017104,
     "end_time": "2023-06-14T12:30:59.264720",
     "exception": false,
     "start_time": "2023-06-14T12:30:59.247616",
     "status": "completed"
    },
    "tags": []
   },
   "source": [
    "- In the above study, we calculated the most recent comments by giving them more weighted points.\n",
    "\n",
    "- **Question:** Should all user ratings have the same weight? So should the score given by the person who watches the whole course and the person who watches 1 percent of the course have the same weight?\n",
    "- We can say that one user has opened the course and closed it, but the other has watched the whole course. Now should their scores be weighted the same? This will be our reference point.\n",
    "- Here, we need to make a different weighting according to the rate of following the course. We make such an assumption.\n",
    "\n",
    "- We want to weight the points awarded according to the progress of the course."
   ]
  },
  {
   "cell_type": "code",
   "execution_count": 27,
   "id": "d795e608",
   "metadata": {
    "execution": {
     "iopub.execute_input": "2023-06-14T12:30:59.300800Z",
     "iopub.status.busy": "2023-06-14T12:30:59.300414Z",
     "iopub.status.idle": "2023-06-14T12:30:59.314460Z",
     "shell.execute_reply": "2023-06-14T12:30:59.313305Z"
    },
    "papermill": {
     "duration": 0.035106,
     "end_time": "2023-06-14T12:30:59.316992",
     "exception": false,
     "start_time": "2023-06-14T12:30:59.281886",
     "status": "completed"
    },
    "tags": []
   },
   "outputs": [
    {
     "data": {
      "text/html": [
       "<div>\n",
       "<style scoped>\n",
       "    .dataframe tbody tr th:only-of-type {\n",
       "        vertical-align: middle;\n",
       "    }\n",
       "\n",
       "    .dataframe tbody tr th {\n",
       "        vertical-align: top;\n",
       "    }\n",
       "\n",
       "    .dataframe thead th {\n",
       "        text-align: right;\n",
       "    }\n",
       "</style>\n",
       "<table border=\"1\" class=\"dataframe\">\n",
       "  <thead>\n",
       "    <tr style=\"text-align: right;\">\n",
       "      <th></th>\n",
       "      <th>Rating</th>\n",
       "      <th>Timestamp</th>\n",
       "      <th>Enrolled</th>\n",
       "      <th>Progress</th>\n",
       "      <th>Questions Asked</th>\n",
       "      <th>Questions Answered</th>\n",
       "      <th>days</th>\n",
       "    </tr>\n",
       "  </thead>\n",
       "  <tbody>\n",
       "    <tr>\n",
       "      <th>0</th>\n",
       "      <td>5.00000</td>\n",
       "      <td>2021-02-05 07:45:55</td>\n",
       "      <td>2021-01-25 15:12:08</td>\n",
       "      <td>5.00000</td>\n",
       "      <td>0.00000</td>\n",
       "      <td>0.00000</td>\n",
       "      <td>4</td>\n",
       "    </tr>\n",
       "    <tr>\n",
       "      <th>1</th>\n",
       "      <td>5.00000</td>\n",
       "      <td>2021-02-04 21:05:32</td>\n",
       "      <td>2021-02-04 20:43:40</td>\n",
       "      <td>1.00000</td>\n",
       "      <td>0.00000</td>\n",
       "      <td>0.00000</td>\n",
       "      <td>5</td>\n",
       "    </tr>\n",
       "    <tr>\n",
       "      <th>2</th>\n",
       "      <td>4.50000</td>\n",
       "      <td>2021-02-04 20:34:03</td>\n",
       "      <td>2019-07-04 23:23:27</td>\n",
       "      <td>1.00000</td>\n",
       "      <td>0.00000</td>\n",
       "      <td>0.00000</td>\n",
       "      <td>5</td>\n",
       "    </tr>\n",
       "    <tr>\n",
       "      <th>3</th>\n",
       "      <td>5.00000</td>\n",
       "      <td>2021-02-04 16:56:28</td>\n",
       "      <td>2021-02-04 14:41:29</td>\n",
       "      <td>10.00000</td>\n",
       "      <td>0.00000</td>\n",
       "      <td>0.00000</td>\n",
       "      <td>5</td>\n",
       "    </tr>\n",
       "    <tr>\n",
       "      <th>4</th>\n",
       "      <td>4.00000</td>\n",
       "      <td>2021-02-04 15:00:24</td>\n",
       "      <td>2020-10-13 03:10:07</td>\n",
       "      <td>10.00000</td>\n",
       "      <td>0.00000</td>\n",
       "      <td>0.00000</td>\n",
       "      <td>5</td>\n",
       "    </tr>\n",
       "  </tbody>\n",
       "</table>\n",
       "</div>"
      ],
      "text/plain": [
       "   Rating           Timestamp            Enrolled  Progress  Questions Asked  Questions Answered  days\n",
       "0 5.00000 2021-02-05 07:45:55 2021-01-25 15:12:08   5.00000          0.00000             0.00000     4\n",
       "1 5.00000 2021-02-04 21:05:32 2021-02-04 20:43:40   1.00000          0.00000             0.00000     5\n",
       "2 4.50000 2021-02-04 20:34:03 2019-07-04 23:23:27   1.00000          0.00000             0.00000     5\n",
       "3 5.00000 2021-02-04 16:56:28 2021-02-04 14:41:29  10.00000          0.00000             0.00000     5\n",
       "4 4.00000 2021-02-04 15:00:24 2020-10-13 03:10:07  10.00000          0.00000             0.00000     5"
      ]
     },
     "execution_count": 27,
     "metadata": {},
     "output_type": "execute_result"
    }
   ],
   "source": [
    "df.head()"
   ]
  },
  {
   "cell_type": "code",
   "execution_count": 28,
   "id": "879b93bf",
   "metadata": {
    "execution": {
     "iopub.execute_input": "2023-06-14T12:30:59.353288Z",
     "iopub.status.busy": "2023-06-14T12:30:59.352909Z",
     "iopub.status.idle": "2023-06-14T12:30:59.366827Z",
     "shell.execute_reply": "2023-06-14T12:30:59.365828Z"
    },
    "papermill": {
     "duration": 0.034889,
     "end_time": "2023-06-14T12:30:59.369181",
     "exception": false,
     "start_time": "2023-06-14T12:30:59.334292",
     "status": "completed"
    },
    "tags": []
   },
   "outputs": [
    {
     "data": {
      "text/html": [
       "<div>\n",
       "<style scoped>\n",
       "    .dataframe tbody tr th:only-of-type {\n",
       "        vertical-align: middle;\n",
       "    }\n",
       "\n",
       "    .dataframe tbody tr th {\n",
       "        vertical-align: top;\n",
       "    }\n",
       "\n",
       "    .dataframe thead th {\n",
       "        text-align: right;\n",
       "    }\n",
       "</style>\n",
       "<table border=\"1\" class=\"dataframe\">\n",
       "  <thead>\n",
       "    <tr style=\"text-align: right;\">\n",
       "      <th></th>\n",
       "      <th>Rating</th>\n",
       "    </tr>\n",
       "    <tr>\n",
       "      <th>Progress</th>\n",
       "      <th></th>\n",
       "    </tr>\n",
       "  </thead>\n",
       "  <tbody>\n",
       "    <tr>\n",
       "      <th>0.00000</th>\n",
       "      <td>4.67391</td>\n",
       "    </tr>\n",
       "    <tr>\n",
       "      <th>1.00000</th>\n",
       "      <td>4.64269</td>\n",
       "    </tr>\n",
       "    <tr>\n",
       "      <th>2.00000</th>\n",
       "      <td>4.65476</td>\n",
       "    </tr>\n",
       "    <tr>\n",
       "      <th>3.00000</th>\n",
       "      <td>4.66355</td>\n",
       "    </tr>\n",
       "    <tr>\n",
       "      <th>4.00000</th>\n",
       "      <td>4.77733</td>\n",
       "    </tr>\n",
       "    <tr>\n",
       "      <th>...</th>\n",
       "      <td>...</td>\n",
       "    </tr>\n",
       "    <tr>\n",
       "      <th>94.00000</th>\n",
       "      <td>5.00000</td>\n",
       "    </tr>\n",
       "    <tr>\n",
       "      <th>95.00000</th>\n",
       "      <td>4.79412</td>\n",
       "    </tr>\n",
       "    <tr>\n",
       "      <th>97.00000</th>\n",
       "      <td>5.00000</td>\n",
       "    </tr>\n",
       "    <tr>\n",
       "      <th>98.00000</th>\n",
       "      <td>5.00000</td>\n",
       "    </tr>\n",
       "    <tr>\n",
       "      <th>100.00000</th>\n",
       "      <td>4.86632</td>\n",
       "    </tr>\n",
       "  </tbody>\n",
       "</table>\n",
       "<p>91 rows × 1 columns</p>\n",
       "</div>"
      ],
      "text/plain": [
       "           Rating\n",
       "Progress         \n",
       "0.00000   4.67391\n",
       "1.00000   4.64269\n",
       "2.00000   4.65476\n",
       "3.00000   4.66355\n",
       "4.00000   4.77733\n",
       "...           ...\n",
       "94.00000  5.00000\n",
       "95.00000  4.79412\n",
       "97.00000  5.00000\n",
       "98.00000  5.00000\n",
       "100.00000 4.86632\n",
       "\n",
       "[91 rows x 1 columns]"
      ]
     },
     "execution_count": 28,
     "metadata": {},
     "output_type": "execute_result"
    }
   ],
   "source": [
    "# Let's look at the average score according to the rate of course watching.\n",
    "\n",
    "df.groupby(\"Progress\").agg({\"Rating\": \"mean\"})"
   ]
  },
  {
   "cell_type": "markdown",
   "id": "3b587fb2",
   "metadata": {
    "papermill": {
     "duration": 0.017214,
     "end_time": "2023-06-14T12:30:59.404204",
     "exception": false,
     "start_time": "2023-06-14T12:30:59.386990",
     "status": "completed"
    },
    "tags": []
   },
   "source": [
    "**Your Monitoring Rate**\n",
    "- We took **22%** of the effect of the average score of those with **less than 10%**.\n",
    "- We took **24%** of the average score of those who monitored between **10% and 45%**.\n",
    "- We took **26%** of the impact of the average score of those who monitored between **45% and 75%**.\n",
    "- We took **28%** of the average score of those who watched more than **75%**.\n",
    "\n",
    "Thus, we calculated a user-based weighted average."
   ]
  },
  {
   "cell_type": "code",
   "execution_count": 29,
   "id": "43643cb2",
   "metadata": {
    "execution": {
     "iopub.execute_input": "2023-06-14T12:30:59.440750Z",
     "iopub.status.busy": "2023-06-14T12:30:59.440385Z",
     "iopub.status.idle": "2023-06-14T12:30:59.452970Z",
     "shell.execute_reply": "2023-06-14T12:30:59.452058Z"
    },
    "papermill": {
     "duration": 0.033662,
     "end_time": "2023-06-14T12:30:59.455304",
     "exception": false,
     "start_time": "2023-06-14T12:30:59.421642",
     "status": "completed"
    },
    "tags": []
   },
   "outputs": [
    {
     "data": {
      "text/plain": [
       "4.800257704672543"
      ]
     },
     "execution_count": 29,
     "metadata": {},
     "output_type": "execute_result"
    }
   ],
   "source": [
    "# Let's calculate the score weighted by the viewership of the course.\n",
    "\n",
    "df.loc[df[\"Progress\"] <= 10, \"Rating\"].mean() * 22 / 100 + \\\n",
    "    df.loc[(df[\"Progress\"] > 10) & (df[\"Progress\"] <= 45), \"Rating\"].mean() * 24 / 100 + \\\n",
    "    df.loc[(df[\"Progress\"] > 45) & (df[\"Progress\"] <= 75), \"Rating\"].mean() * 26 / 100 + \\\n",
    "    df.loc[(df[\"Progress\"] > 75), \"Rating\"].mean() * 28 / 100"
   ]
  },
  {
   "cell_type": "code",
   "execution_count": 30,
   "id": "7d79d027",
   "metadata": {
    "execution": {
     "iopub.execute_input": "2023-06-14T12:30:59.493380Z",
     "iopub.status.busy": "2023-06-14T12:30:59.492622Z",
     "iopub.status.idle": "2023-06-14T12:30:59.500748Z",
     "shell.execute_reply": "2023-06-14T12:30:59.499601Z"
    },
    "papermill": {
     "duration": 0.029559,
     "end_time": "2023-06-14T12:30:59.503071",
     "exception": false,
     "start_time": "2023-06-14T12:30:59.473512",
     "status": "completed"
    },
    "tags": []
   },
   "outputs": [],
   "source": [
    "# If we want to use it, the functionalized version is as follows.\n",
    "\n",
    "def user_based_weighted_average(dataframe, w1=22, w2=24, w3=26, w4=28):\n",
    "    return dataframe.loc[dataframe[\"Progress\"] <= 10, \"Rating\"].mean() * w1 / 100 + \\\n",
    "           dataframe.loc[(dataframe[\"Progress\"] > 10) & (dataframe[\"Progress\"] <= 45), \"Rating\"].mean() * w2 / 100 + \\\n",
    "           dataframe.loc[(dataframe[\"Progress\"] > 45) & (dataframe[\"Progress\"] <= 75), \"Rating\"].mean() * w3 / 100 + \\\n",
    "           dataframe.loc[(dataframe[\"Progress\"] > 75), \"Rating\"].mean() * w4 / 100"
   ]
  },
  {
   "cell_type": "code",
   "execution_count": 31,
   "id": "337ee14b",
   "metadata": {
    "execution": {
     "iopub.execute_input": "2023-06-14T12:30:59.540931Z",
     "iopub.status.busy": "2023-06-14T12:30:59.540546Z",
     "iopub.status.idle": "2023-06-14T12:30:59.550210Z",
     "shell.execute_reply": "2023-06-14T12:30:59.549353Z"
    },
    "papermill": {
     "duration": 0.030903,
     "end_time": "2023-06-14T12:30:59.552331",
     "exception": false,
     "start_time": "2023-06-14T12:30:59.521428",
     "status": "completed"
    },
    "tags": []
   },
   "outputs": [
    {
     "data": {
      "text/plain": [
       "4.800257704672543"
      ]
     },
     "execution_count": 31,
     "metadata": {},
     "output_type": "execute_result"
    }
   ],
   "source": [
    "# we use default weitghts\n",
    "\n",
    "user_based_weighted_average(df)"
   ]
  },
  {
   "cell_type": "code",
   "execution_count": 32,
   "id": "30736051",
   "metadata": {
    "execution": {
     "iopub.execute_input": "2023-06-14T12:30:59.589891Z",
     "iopub.status.busy": "2023-06-14T12:30:59.589434Z",
     "iopub.status.idle": "2023-06-14T12:30:59.600652Z",
     "shell.execute_reply": "2023-06-14T12:30:59.599545Z"
    },
    "papermill": {
     "duration": 0.032911,
     "end_time": "2023-06-14T12:30:59.603130",
     "exception": false,
     "start_time": "2023-06-14T12:30:59.570219",
     "status": "completed"
    },
    "tags": []
   },
   "outputs": [
    {
     "data": {
      "text/plain": [
       "4.803286469062915"
      ]
     },
     "execution_count": 32,
     "metadata": {},
     "output_type": "execute_result"
    }
   ],
   "source": [
    "# if we use different weights\n",
    "\n",
    "user_based_weighted_average(df, 20, 24, 26, 30)"
   ]
  },
  {
   "cell_type": "markdown",
   "id": "971f2406",
   "metadata": {
    "papermill": {
     "duration": 0.019133,
     "end_time": "2023-06-14T12:30:59.640526",
     "exception": false,
     "start_time": "2023-06-14T12:30:59.621393",
     "status": "completed"
    },
    "tags": []
   },
   "source": [
    "# Weighted Rating\n",
    "\n",
    "- In the two studies we did above, we scored the product using both **Time-Based Weighted Average** and **User-Based Weighted Average** separately.\n",
    "- Now we will calculate the score of the product by using the effect of both of these methods at the same time."
   ]
  },
  {
   "cell_type": "code",
   "execution_count": 33,
   "id": "05c7c967",
   "metadata": {
    "execution": {
     "iopub.execute_input": "2023-06-14T12:30:59.678589Z",
     "iopub.status.busy": "2023-06-14T12:30:59.678182Z",
     "iopub.status.idle": "2023-06-14T12:30:59.683712Z",
     "shell.execute_reply": "2023-06-14T12:30:59.682768Z"
    },
    "papermill": {
     "duration": 0.027482,
     "end_time": "2023-06-14T12:30:59.685889",
     "exception": false,
     "start_time": "2023-06-14T12:30:59.658407",
     "status": "completed"
    },
    "tags": []
   },
   "outputs": [],
   "source": [
    "def course_weighted_rating(dataframe, time_w=50, user_w=50):\n",
    "    return time_based_weighted_average(dataframe) * time_w/100 + user_based_weighted_average(dataframe)*user_w/100"
   ]
  },
  {
   "cell_type": "code",
   "execution_count": 34,
   "id": "b1a96f65",
   "metadata": {
    "execution": {
     "iopub.execute_input": "2023-06-14T12:30:59.723571Z",
     "iopub.status.busy": "2023-06-14T12:30:59.723163Z",
     "iopub.status.idle": "2023-06-14T12:30:59.736924Z",
     "shell.execute_reply": "2023-06-14T12:30:59.735787Z"
    },
    "papermill": {
     "duration": 0.035366,
     "end_time": "2023-06-14T12:30:59.739234",
     "exception": false,
     "start_time": "2023-06-14T12:30:59.703868",
     "status": "completed"
    },
    "tags": []
   },
   "outputs": [
    {
     "data": {
      "text/plain": [
       "4.782641693469868"
      ]
     },
     "execution_count": 34,
     "metadata": {},
     "output_type": "execute_result"
    }
   ],
   "source": [
    "# we use default weitghts\n",
    "\n",
    "course_weighted_rating(df)"
   ]
  },
  {
   "cell_type": "code",
   "execution_count": 35,
   "id": "0d7ad3fb",
   "metadata": {
    "execution": {
     "iopub.execute_input": "2023-06-14T12:30:59.777954Z",
     "iopub.status.busy": "2023-06-14T12:30:59.776822Z",
     "iopub.status.idle": "2023-06-14T12:30:59.789919Z",
     "shell.execute_reply": "2023-06-14T12:30:59.789091Z"
    },
    "papermill": {
     "duration": 0.034665,
     "end_time": "2023-06-14T12:30:59.792100",
     "exception": false,
     "start_time": "2023-06-14T12:30:59.757435",
     "status": "completed"
    },
    "tags": []
   },
   "outputs": [
    {
     "data": {
      "text/plain": [
       "4.786164895710403"
      ]
     },
     "execution_count": 35,
     "metadata": {},
     "output_type": "execute_result"
    }
   ],
   "source": [
    "# if we use different weights\n",
    "\n",
    "course_weighted_rating(df, time_w=40, user_w=60)"
   ]
  }
 ],
 "metadata": {
  "kernelspec": {
   "display_name": "Python 3",
   "language": "python",
   "name": "python3"
  },
  "language_info": {
   "codemirror_mode": {
    "name": "ipython",
    "version": 3
   },
   "file_extension": ".py",
   "mimetype": "text/x-python",
   "name": "python",
   "nbconvert_exporter": "python",
   "pygments_lexer": "ipython3",
   "version": "3.10.10"
  },
  "papermill": {
   "default_parameters": {},
   "duration": 17.929724,
   "end_time": "2023-06-14T12:31:00.833964",
   "environment_variables": {},
   "exception": null,
   "input_path": "__notebook__.ipynb",
   "output_path": "__notebook__.ipynb",
   "parameters": {},
   "start_time": "2023-06-14T12:30:42.904240",
   "version": "2.4.0"
  }
 },
 "nbformat": 4,
 "nbformat_minor": 5
}
